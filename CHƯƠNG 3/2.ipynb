{
 "cells": [
  {
   "cell_type": "code",
   "execution_count": 1,
   "metadata": {},
   "outputs": [
    {
     "name": "stdout",
     "output_type": "stream",
     "text": [
      "[0 1 2 3 4 5 6 7 8 9]\n",
      "kieu du lieu: int32\n",
      "do dai arr: 10\n",
      "do dai arr: 10\n",
      "[1 3 5 7 9]\n",
      "[0 2 4 6 8]\n",
      "[  0 100   2 100   4 100   6 100   8 100]\n"
     ]
    }
   ],
   "source": [
    "import numpy as np\n",
    "#1\n",
    "numpy_array = np.arange(10)\n",
    "print(numpy_array)\n",
    "print('kieu du lieu:',numpy_array.dtype)\n",
    "print('do dai arr:',len(numpy_array))\n",
    "print('do dai arr:',numpy_array.size)\n",
    "#2\n",
    "arr_odd = numpy_array[1::2]\n",
    "arr_even = numpy_array[0::2]\n",
    "arr_odd = numpy_array[numpy_array%2==1]\n",
    "arr_even = numpy_array[numpy_array%2==0]\n",
    "print(arr_odd)\n",
    "print(arr_even)\n",
    "#3\n",
    "arr_update_1 = []\n",
    "for i in numpy_array:\n",
    "    if i in arr_odd:\n",
    "        i = 100\n",
    "    arr_update_1.append(i)\n",
    "arr_update_1 = np.array(arr_update_1)\n",
    "print(arr_update_1)"
   ]
  }
 ],
 "metadata": {
  "kernelspec": {
   "display_name": "Python 3",
   "language": "python",
   "name": "python3"
  },
  "language_info": {
   "codemirror_mode": {
    "name": "ipython",
    "version": 3
   },
   "file_extension": ".py",
   "mimetype": "text/x-python",
   "name": "python",
   "nbconvert_exporter": "python",
   "pygments_lexer": "ipython3",
   "version": "3.6.8"
  }
 },
 "nbformat": 4,
 "nbformat_minor": 2
}
