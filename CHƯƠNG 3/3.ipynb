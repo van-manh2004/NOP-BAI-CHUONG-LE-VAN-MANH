{
 "cells": [
  {
   "cell_type": "code",
   "execution_count": null,
   "metadata": {},
   "outputs": [],
   "source": [
    "import numpy as np\n",
    "arr_a =np.array ([1,2,3,2,3,4,3,4,5,6])\n",
    "arr_b =np.array ([7,2,10,2,7,4,9,4,9,8])\n",
    "#1\n",
    "a=[i for i in arr_a if i in arr_b]\n",
    "arr_c = np.array(a)\n",
    "print(arr_c)\n",
    "#2\n",
    "arr_d = np.array(list(set(arr_a)- set(arr_b)))\n",
    "print(arr_d)\n",
    "#3\n",
    "arr_e = np.array([2, 6, 1, 9, 10, 3, 27, 8, 6, 25, 16])\n",
    "arr_f = np.array([i for i in arr_e if i>=5 and i<=10])\n",
    "print(arr_f)"
   ]
  }
 ],
 "metadata": {
  "language_info": {
   "name": "python"
  }
 },
 "nbformat": 4,
 "nbformat_minor": 2
}
