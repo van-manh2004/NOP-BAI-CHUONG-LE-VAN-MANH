{
 "cells": [
  {
   "cell_type": "code",
   "execution_count": 2,
   "metadata": {},
   "outputs": [],
   "source": [
    "import pandas as pd\n",
    "import numpy as np"
   ]
  },
  {
   "cell_type": "code",
   "execution_count": 6,
   "metadata": {},
   "outputs": [],
   "source": [
    "ser = pd.Series(np.random.random(20))"
   ]
  },
  {
   "cell_type": "code",
   "execution_count": 7,
   "metadata": {},
   "outputs": [],
   "source": [
    "ser = pd.qcut(ser, q=[0, .10, .20, .3, .4, .5, .6, .7, .8, .9, 1],labels=['1st decile', '2nd decile', '3rd decile', '4th decile', '5th decile', '6th decile', '7th decile', '8th decile', '9th decile', '10th decile'])"
   ]
  },
  {
   "cell_type": "code",
   "execution_count": 8,
   "metadata": {},
   "outputs": [
    {
     "data": {
      "text/plain": [
       "0      9th decile\n",
       "1      6th decile\n",
       "2      2nd decile\n",
       "3      3rd decile\n",
       "4      1st decile\n",
       "5      6th decile\n",
       "6      5th decile\n",
       "7      1st decile\n",
       "8      3rd decile\n",
       "9      4th decile\n",
       "10     8th decile\n",
       "11     5th decile\n",
       "12     2nd decile\n",
       "13     7th decile\n",
       "14     8th decile\n",
       "15    10th decile\n",
       "16     9th decile\n",
       "17     7th decile\n",
       "18    10th decile\n",
       "19     4th decile\n",
       "dtype: category\n",
       "Categories (10, object): ['1st decile' < '2nd decile' < '3rd decile' < '4th decile' ... '7th decile' < '8th decile' < '9th decile' < '10th decile']"
      ]
     },
     "execution_count": 8,
     "metadata": {},
     "output_type": "execute_result"
    }
   ],
   "source": [
    "ser"
   ]
  },
  {
   "cell_type": "code",
   "execution_count": null,
   "metadata": {},
   "outputs": [],
   "source": []
  }
 ],
 "metadata": {
  "kernelspec": {
   "display_name": "Python 3",
   "language": "python",
   "name": "python3"
  },
  "language_info": {
   "codemirror_mode": {
    "name": "ipython",
    "version": 3
   },
   "file_extension": ".py",
   "mimetype": "text/x-python",
   "name": "python",
   "nbconvert_exporter": "python",
   "pygments_lexer": "ipython3",
   "version": "3.11.5"
  }
 },
 "nbformat": 4,
 "nbformat_minor": 2
}
